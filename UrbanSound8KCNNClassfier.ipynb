{
  "nbformat": 4,
  "nbformat_minor": 0,
  "metadata": {
    "colab": {
      "private_outputs": true,
      "provenance": [],
      "mount_file_id": "15QtVgI8gocOQb2S-nSyToyOHBn2ulXnr",
      "authorship_tag": "ABX9TyPEhj6gj1TJXLld0ZZI9BOn",
      "include_colab_link": true
    },
    "kernelspec": {
      "name": "python3",
      "display_name": "Python 3"
    },
    "language_info": {
      "name": "python"
    }
  },
  "cells": [
    {
      "cell_type": "markdown",
      "metadata": {
        "id": "view-in-github",
        "colab_type": "text"
      },
      "source": [
        "<a href=\"https://colab.research.google.com/github/SimperPhi/Urban_Sound_Classification_Project/blob/master/UrbanSound8KCNNClassfier.ipynb\" target=\"_parent\"><img src=\"https://colab.research.google.com/assets/colab-badge.svg\" alt=\"Open In Colab\"/></a>"
      ]
    },
    {
      "cell_type": "code",
      "execution_count": null,
      "metadata": {
        "id": "1KgvDOon-DsW"
      },
      "outputs": [],
      "source": [
        "import tensorflow as tf"
      ]
    },
    {
      "cell_type": "code",
      "source": [
        "tf.__version__"
      ],
      "metadata": {
        "id": "2tS4lwEe-Vqk"
      },
      "execution_count": null,
      "outputs": []
    },
    {
      "cell_type": "code",
      "source": [
        "!pip install matplotlib-venn"
      ],
      "metadata": {
        "id": "n8b5zkKSWvby"
      },
      "execution_count": null,
      "outputs": []
    },
    {
      "cell_type": "code",
      "source": [
        "!apt-get -qq install -y libfluidsynth1"
      ],
      "metadata": {
        "id": "RS8YJZV6Wyec"
      },
      "execution_count": null,
      "outputs": []
    },
    {
      "cell_type": "code",
      "source": [
        "!pip install resampy"
      ],
      "metadata": {
        "id": "OlOP_1DRXD-B"
      },
      "execution_count": null,
      "outputs": []
    },
    {
      "cell_type": "code",
      "source": [
        "import matplotlib.pyplot as plt\n",
        "%matplotlib inline"
      ],
      "metadata": {
        "id": "6us6ztuFX_j8"
      },
      "execution_count": null,
      "outputs": []
    },
    {
      "cell_type": "code",
      "source": [
        "from tensorflow.keras.models import Sequential\n",
        "from tensorflow.keras.layers import Conv2D, MaxPooling2D, Flatten, Dense, Dropout\n",
        "from tensorflow.keras.optimizers import Adam\n",
        "from tensorflow.keras.utils import to_categorical\n",
        "import numpy as np\n",
        "import os\n",
        "import librosa\n",
        "import librosa.display\n",
        "import matplotlib.pyplot as plt\n",
        "from sklearn.model_selection import train_test_split"
      ],
      "metadata": {
        "id": "MJ3J0gZe-hZm"
      },
      "execution_count": null,
      "outputs": []
    },
    {
      "cell_type": "code",
      "source": [
        "import pandas as pd"
      ],
      "metadata": {
        "id": "FOgDsGX5-qQD"
      },
      "execution_count": null,
      "outputs": []
    },
    {
      "cell_type": "code",
      "source": [
        "from google.colab import drive\n",
        "drive.mount('/content/drive')"
      ],
      "metadata": {
        "id": "xtAu0R4fFGRF"
      },
      "execution_count": null,
      "outputs": []
    },
    {
      "cell_type": "code",
      "source": [
        "from IPython.display import Audio\n",
        "\n",
        "# Ses dosyasının tam yolu\n",
        "ses_dosya_yolu = \"/content/drive/MyDrive/02-Urban8k-grup6/audio/fold1/101415-3-0-2.wav\"\n",
        "\n",
        "# Ses dosyasını oynat\n",
        "Audio(ses_dosya_yolu)\n"
      ],
      "metadata": {
        "id": "L-w9eK8pFKrD"
      },
      "execution_count": null,
      "outputs": []
    },
    {
      "cell_type": "code",
      "source": [
        "import librosa\n",
        "\n",
        "librosa_file_path = \"/content/drive/MyDrive/02-Urban8k-grup6/audio/fold1/101415-3-0-2.wav\"\n",
        "librosa_audio_data, librosa_sample_rate = librosa.load(librosa_file_path)\n"
      ],
      "metadata": {
        "id": "vx66gAZvFSiP"
      },
      "execution_count": null,
      "outputs": []
    },
    {
      "cell_type": "code",
      "source": [
        "print (librosa_audio_data)"
      ],
      "metadata": {
        "id": "Kyy9xwbIIdi9"
      },
      "execution_count": null,
      "outputs": []
    },
    {
      "cell_type": "code",
      "source": [
        "plt.figure(figsize=(12,4))\n",
        "plt.plot(librosa_audio_data)\n",
        "plt.show()"
      ],
      "metadata": {
        "id": "hiyI_ePOIv6l"
      },
      "execution_count": null,
      "outputs": []
    },
    {
      "cell_type": "code",
      "source": [
        "mfccs=librosa.feature.mfcc(y=librosa_audio_data, sr=librosa_sample_rate, n_mfcc=40)"
      ],
      "metadata": {
        "id": "PcueIArDJCo1"
      },
      "execution_count": null,
      "outputs": []
    },
    {
      "cell_type": "code",
      "source": [
        "mfccs"
      ],
      "metadata": {
        "id": "nUykLaCGLGu9"
      },
      "execution_count": null,
      "outputs": []
    },
    {
      "cell_type": "code",
      "source": [
        "from zmq import METADATA\n",
        "audio_dataset_path=\"/content/drive/MyDrive/02-Urban8k-grup6/audio\"\n",
        "metadata=pd.read_csv(\"/content/drive/MyDrive/02-Urban8k-grup6/metadata/UrbanSound8K.csv\")\n",
        "metadata.head()"
      ],
      "metadata": {
        "id": "mxhGH4qNLKMw"
      },
      "execution_count": null,
      "outputs": []
    },
    {
      "cell_type": "code",
      "source": [
        "### Check whether the dataset is imbalanced\n",
        "metadata['class'].value_counts()"
      ],
      "metadata": {
        "id": "NwunB7F_M4z1"
      },
      "execution_count": null,
      "outputs": []
    },
    {
      "cell_type": "code",
      "source": [
        "def features_extractor(file):\n",
        "    audio, sample_rate = librosa.load(file_name, res_type='kaiser_fast')\n",
        "    mfccs_features = librosa.feature.mfcc(y=audio, sr=sample_rate, n_mfcc=40)\n",
        "    mfccs_scaled_features = np.mean(mfccs_features.T,axis=0)\n",
        "\n",
        "    return mfccs_scaled_features\n"
      ],
      "metadata": {
        "id": "y4VOVYoPOtoS"
      },
      "execution_count": null,
      "outputs": []
    },
    {
      "cell_type": "code",
      "source": [
        "!pip install lazy_loader"
      ],
      "metadata": {
        "id": "43eiww03YoPf"
      },
      "execution_count": null,
      "outputs": []
    },
    {
      "cell_type": "code",
      "source": [
        "!pip install resampy\n",
        "import numpy as np\n",
        "from tqdm import tqdm\n",
        "\n",
        "extracted_features=[]\n",
        "for index_num,row in tqdm(metadata.iterrows()):\n",
        "    file_name = os.path.join(os.path.abspath(audio_dataset_path),'fold'+str(row[\"fold\"])+'/',str(row[\"slice_file_name\"]))\n",
        "    final_class_labels=row[\"class\"]\n",
        "    data=features_extractor(file_name)\n",
        "    extracted_features.append([data,final_class_labels])"
      ],
      "metadata": {
        "id": "r9jzuqi9O0RA"
      },
      "execution_count": null,
      "outputs": []
    },
    {
      "cell_type": "code",
      "source": [
        "extracted_features_df=pd.DataFrame(extracted_features,columns=['feature','class'])\n",
        "extracted_features_df.head()"
      ],
      "metadata": {
        "id": "0Snd_LK-r56l"
      },
      "execution_count": null,
      "outputs": []
    },
    {
      "cell_type": "code",
      "source": [
        "extracted_features_df.tail()"
      ],
      "metadata": {
        "id": "MFsqMINmsGrd"
      },
      "execution_count": null,
      "outputs": []
    },
    {
      "cell_type": "code",
      "source": [
        "X=np.array(extracted_features_df['feature'].tolist())\n",
        "y=np.array(extracted_features_df['class'].tolist())"
      ],
      "metadata": {
        "id": "_gBGFeDmsLlp"
      },
      "execution_count": null,
      "outputs": []
    },
    {
      "cell_type": "code",
      "source": [
        "X.shape"
      ],
      "metadata": {
        "id": "ZW8jBPfWsOTf"
      },
      "execution_count": null,
      "outputs": []
    },
    {
      "cell_type": "code",
      "source": [
        "y"
      ],
      "metadata": {
        "id": "IujLsJSlsP_i"
      },
      "execution_count": null,
      "outputs": []
    },
    {
      "cell_type": "code",
      "source": [
        "from tensorflow.keras.utils import to_categorical\n",
        "from sklearn.preprocessing import LabelEncoder\n",
        "labelencoder=LabelEncoder()\n",
        "y=to_categorical(labelencoder.fit_transform(y))"
      ],
      "metadata": {
        "id": "nbwg3AX6sUkc"
      },
      "execution_count": null,
      "outputs": []
    },
    {
      "cell_type": "code",
      "source": [
        "y"
      ],
      "metadata": {
        "id": "zplwKLWZsWjD"
      },
      "execution_count": null,
      "outputs": []
    },
    {
      "cell_type": "code",
      "source": [
        "from sklearn.model_selection import train_test_split\n",
        "X_train,X_test,y_train,y_test=train_test_split(X,y,test_size=0.2,random_state=0)"
      ],
      "metadata": {
        "id": "__z3OHo3sY8L"
      },
      "execution_count": null,
      "outputs": []
    },
    {
      "cell_type": "code",
      "source": [
        "X_train"
      ],
      "metadata": {
        "id": "V3YpJdfBsaIV"
      },
      "execution_count": null,
      "outputs": []
    },
    {
      "cell_type": "code",
      "source": [
        "y"
      ],
      "metadata": {
        "id": "Artj09Bjsdun"
      },
      "execution_count": null,
      "outputs": []
    },
    {
      "cell_type": "code",
      "source": [
        "X_train.shape"
      ],
      "metadata": {
        "id": "jV2td4bJsfv1"
      },
      "execution_count": null,
      "outputs": []
    },
    {
      "cell_type": "code",
      "source": [
        "X_test.shape"
      ],
      "metadata": {
        "id": "bMn-YGp0si0L"
      },
      "execution_count": null,
      "outputs": []
    },
    {
      "cell_type": "code",
      "source": [
        "y_train.shape"
      ],
      "metadata": {
        "id": "5InIVOcPslgV"
      },
      "execution_count": null,
      "outputs": []
    },
    {
      "cell_type": "code",
      "source": [
        "y_test.shape"
      ],
      "metadata": {
        "id": "MRy_hYZYsmCL"
      },
      "execution_count": null,
      "outputs": []
    },
    {
      "cell_type": "code",
      "source": [
        "from tensorflow.keras.models import Sequential\n",
        "from tensorflow.keras.layers import Dense,Dropout,Activation,Flatten\n",
        "from tensorflow.keras.optimizers import Adam\n",
        "from sklearn import metrics"
      ],
      "metadata": {
        "id": "8d_-2lygsoct"
      },
      "execution_count": null,
      "outputs": []
    },
    {
      "cell_type": "code",
      "source": [
        "### No of classes\n",
        "num_labels=y.shape[1]"
      ],
      "metadata": {
        "id": "pQsegXAsvlgm"
      },
      "execution_count": null,
      "outputs": []
    },
    {
      "cell_type": "code",
      "source": [
        "\n",
        "model=Sequential()\n",
        "###first layer\n",
        "model.add(Dense(125,input_shape=(40,)))\n",
        "model.add(Activation('relu'))\n",
        "model.add(Dropout(0.5))\n",
        "###second layer\n",
        "model.add(Dense(250))\n",
        "model.add(Activation('relu'))\n",
        "model.add(Dropout(0.5))\n",
        "###third layer\n",
        "model.add(Dense(125))\n",
        "model.add(Activation('relu'))\n",
        "model.add(Dropout(0.5))\n",
        "\n",
        "###final layer\n",
        "model.add(Dense(num_labels))\n",
        "model.add(Activation('softmax'))"
      ],
      "metadata": {
        "id": "ui0pEBu8vpbo"
      },
      "execution_count": null,
      "outputs": []
    },
    {
      "cell_type": "code",
      "source": [
        "model.summary()"
      ],
      "metadata": {
        "id": "kv6oBaDXx3Ru"
      },
      "execution_count": null,
      "outputs": []
    },
    {
      "cell_type": "code",
      "source": [
        "model.compile(loss='categorical_crossentropy',metrics=['accuracy'],optimizer='adam')"
      ],
      "metadata": {
        "id": "MIyUGrWHx6sN"
      },
      "execution_count": null,
      "outputs": []
    },
    {
      "cell_type": "code",
      "source": [
        "from tensorflow.keras.callbacks import ModelCheckpoint\n",
        "from datetime import datetime\n",
        "\n",
        "num_epochs = 300\n",
        "num_batch_size = 32"
      ],
      "metadata": {
        "id": "ok17RYU0yIPo"
      },
      "execution_count": null,
      "outputs": []
    },
    {
      "cell_type": "code",
      "source": [
        "model.fit(X_train, y_train, batch_size=num_batch_size, epochs=num_epochs, validation_data=(X_test, y_test), verbose=1)"
      ],
      "metadata": {
        "id": "wNud8w1-ypT-"
      },
      "execution_count": null,
      "outputs": []
    },
    {
      "cell_type": "code",
      "source": [
        "test_accuracy=model.evaluate(X_test,y_test,verbose=0)\n",
        "print(test_accuracy[1])"
      ],
      "metadata": {
        "id": "hpn4hDdk2Y0x"
      },
      "execution_count": null,
      "outputs": []
    },
    {
      "cell_type": "code",
      "source": [
        "#Buradan itibaren çalıştırma"
      ],
      "metadata": {
        "id": "fdGsDMYWd0B2"
      },
      "execution_count": null,
      "outputs": []
    },
    {
      "cell_type": "code",
      "source": [
        "folder_path = \"/content/drive/MyDrive/02-Urban8k-grup6/audio/fold2/\"\n",
        "\n",
        "# Klasördeki tüm .wav dosyalarını alın\n",
        "wav_files = glob.glob(os.path.join(folder_path, \"*.wav\"))\n",
        "\n",
        "# Rastgele bir ses dosyası seçin\n",
        "random_wav_file = random.choice(wav_files)\n",
        "\n",
        "# Seçilen dosyayı yükleyin\n",
        "audio, sample_rate = librosa.load(random_wav_file, res_type='kaiser_fast')\n",
        "mfccs_features = librosa.feature.mfcc(y=audio, sr=sample_rate, n_mfcc=40)\n",
        "mfccs_scaled_features = np.mean(mfccs_features.T,axis=0)\n",
        "print(f\"Seçilen Dosya: {random_wav_file}\")\n"
      ],
      "metadata": {
        "id": "-TYgOjKS2hR6"
      },
      "execution_count": null,
      "outputs": []
    },
    {
      "cell_type": "code",
      "source": [
        "X_test[1]"
      ],
      "metadata": {
        "id": "Ax-E_VWC2bTB"
      },
      "execution_count": null,
      "outputs": []
    },
    {
      "cell_type": "code",
      "source": [
        "mfccs_scaled_features"
      ],
      "metadata": {
        "id": "YduknB9M2zit"
      },
      "execution_count": null,
      "outputs": []
    },
    {
      "cell_type": "code",
      "source": [
        "mfccs_scaled_features=mfccs_scaled_features.reshape(1,-1)"
      ],
      "metadata": {
        "id": "RQSjr9tC24QH"
      },
      "execution_count": null,
      "outputs": []
    },
    {
      "cell_type": "code",
      "source": [
        "mfccs_scaled_features.shape"
      ],
      "metadata": {
        "id": "X3ooQn2x2-ff"
      },
      "execution_count": null,
      "outputs": []
    },
    {
      "cell_type": "code",
      "source": [
        "result_array=model.predict(mfccs_scaled_features)"
      ],
      "metadata": {
        "id": "e1qPb62O3AMZ"
      },
      "execution_count": null,
      "outputs": []
    },
    {
      "cell_type": "code",
      "source": [
        "result_array"
      ],
      "metadata": {
        "id": "J-MdG-jp3asp"
      },
      "execution_count": null,
      "outputs": []
    },
    {
      "cell_type": "code",
      "source": [
        "result_classes=[\"klima sesi\",\"araba korna sesi\",\"çocuk sesleri\",\"köpek havlaması\",\n",
        "\"sonaj\",\"motor sesi\",\"silah sesi\",\"darbeli kırıcı\",\"siren\",\"sokakta müzik\"]"
      ],
      "metadata": {
        "id": "OUuhv1mF3sVD"
      },
      "execution_count": null,
      "outputs": []
    },
    {
      "cell_type": "code",
      "source": [
        "result_classes"
      ],
      "metadata": {
        "id": "Q10rhhCt4niy"
      },
      "execution_count": null,
      "outputs": []
    },
    {
      "cell_type": "code",
      "source": [
        "result=np.argmax(result_array[0])"
      ],
      "metadata": {
        "id": "eFgVVorJ4sK-"
      },
      "execution_count": null,
      "outputs": []
    },
    {
      "cell_type": "code",
      "source": [
        "result_classes[result]"
      ],
      "metadata": {
        "id": "cl9aTe-g4yPf"
      },
      "execution_count": null,
      "outputs": []
    },
    {
      "cell_type": "code",
      "source": [
        "if result_classes[result]=='köpek havlaması' :\n",
        "  import matplotlib.image as mpimg\n",
        "  plt.figure(figsize=(12,4))\n",
        "  img = mpimg.imread('/content/drive/MyDrive/dog.jpeg')\n",
        "  imgplot=plt.imshow(img)\n",
        "  plt.show()\n",
        "if result_classes[result]=='klima sesi' :\n",
        "  import matplotlib.image as mpimg\n",
        "  plt.figure(figsize=(12,4))\n",
        "  img = mpimg.imread('/content/drive/MyDrive/klima.jpg')\n",
        "  imgplot=plt.imshow(img)\n",
        "  plt.show()\n",
        "if result_classes[result]=='araba korna sesi' :\n",
        "  import matplotlib.image as mpimg\n",
        "  plt.figure(figsize=(12,4))\n",
        "  img = mpimg.imread('/content/drive/MyDrive/araba.jpg')\n",
        "  imgplot=plt.imshow(img)\n",
        "  plt.show()\n",
        "if result_classes[result]=='çocuk sesleri' :\n",
        "  import matplotlib.image as mpimg\n",
        "  plt.figure(figsize=(12,4))\n",
        "  img = mpimg.imread('/content/drive/MyDrive/çocuk sesleri.jpg')\n",
        "  imgplot=plt.imshow(img)\n",
        "  plt.show()\n",
        "if result_classes[result]=='sonaj' :\n",
        "  import matplotlib.image as mpimg\n",
        "  plt.figure(figsize=(12,4))\n",
        "  img = mpimg.imread('/content/drive/MyDrive/sonaj.jpg')\n",
        "  imgplot=plt.imshow(img)\n",
        "  plt.show()\n",
        "if result_classes[result]=='motor sesi' :\n",
        "  import matplotlib.image as mpimg\n",
        "  plt.figure(figsize=(12,4))\n",
        "  img = mpimg.imread('/content/drive/MyDrive/motor sesi.jpg')\n",
        "  imgplot=plt.imshow(img)\n",
        "  plt.show()\n",
        "if result_classes[result]=='silah sesi' :\n",
        "  import matplotlib.image as mpimg\n",
        "  plt.figure(figsize=(12,4))\n",
        "  img = mpimg.imread('/content/drive/MyDrive/silah sesi.jpg')\n",
        "  imgplot=plt.imshow(img)\n",
        "  plt.show()\n",
        "if result_classes[result]=='darbeli kırıcı' :\n",
        "  import matplotlib.image as mpimg\n",
        "  plt.figure(figsize=(12,4))\n",
        "  img = mpimg.imread('/content/drive/MyDrive/darbeli.jpg')\n",
        "  imgplot=plt.imshow(img)\n",
        "  plt.show()\n",
        "if result_classes[result]=='siren' :\n",
        "  import matplotlib.image as mpimg\n",
        "  plt.figure(figsize=(12,4))\n",
        "  img = mpimg.imread('/content/drive/MyDrive/siren.jpg')\n",
        "  imgplot=plt.imshow(img)\n",
        "  plt.show()\n",
        "if result_classes[result]=='sokakta müzik' :\n",
        "  import matplotlib.image as mpimg\n",
        "  plt.figure(figsize=(12,4))\n",
        "  img = mpimg.imread('/content/drive/MyDrive/müzik.jpg')\n",
        "  imgplot=plt.imshow(img)\n",
        "  plt.show()"
      ],
      "metadata": {
        "id": "zly_xDiX-ktI"
      },
      "execution_count": null,
      "outputs": []
    },
    {
      "cell_type": "code",
      "source": [
        "display(Audio(data=audio, rate=sample_rate))"
      ],
      "metadata": {
        "id": "Mhu4tFkacKyV"
      },
      "execution_count": null,
      "outputs": []
    },
    {
      "cell_type": "code",
      "source": [
        "librosa.display.waveshow(audio, sr=sample_rate)"
      ],
      "metadata": {
        "id": "bm-r0WiIIIMP"
      },
      "execution_count": null,
      "outputs": []
    }
  ]
}